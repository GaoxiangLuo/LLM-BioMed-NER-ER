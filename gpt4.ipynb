{
 "cells": [
  {
   "cell_type": "code",
   "execution_count": null,
   "metadata": {},
   "outputs": [],
   "source": [
    "import os\n",
    "import time\n",
    "import openai\n",
    "openai.api_key = os.getenv(\"OPENAI_API_KEY\")\n",
    "\n",
    "import pandas as pd\n",
    "from tqdm import tqdm\n",
    "from typing import List\n",
    "from utils import html_parsing_ncbi, html_parsing_n2c2, get_classification_report"
   ]
  },
  {
   "cell_type": "markdown",
   "metadata": {},
   "source": [
    "# 1. NER (Named Entity Recognition)"
   ]
  },
  {
   "cell_type": "markdown",
   "metadata": {},
   "source": [
    "## 1.1 NCBI-Disease Dataset"
   ]
  },
  {
   "cell_type": "markdown",
   "metadata": {},
   "source": [
    "### 1.1.1 Inference"
   ]
  },
  {
   "cell_type": "code",
   "execution_count": null,
   "metadata": {},
   "outputs": [],
   "source": [
    "ncbi_df = pd.read_csv('data/NER/NCBI-disease/test_200.csv')"
   ]
  },
  {
   "cell_type": "code",
   "execution_count": null,
   "metadata": {},
   "outputs": [],
   "source": [
    "def get_ner_ncbi_disease(sentence: str, gpt4: bool = False, shot: int = 0) -> str:\n",
    "    \"\"\"\n",
    "        Get NER zero/one-shot prediction from GPT-3.5 or GPT-4 given a sentence in NCBI-disease dataset.\n",
    "        Input:\n",
    "            sentence: a string of sentence\n",
    "            gpt4: whether to use GPT-4 or GPT-3.5\n",
    "            shot: zero-shot (0) or one-shot (1)\n",
    "        Output:\n",
    "            a HTML string that highlights all the disease entities in the sentence\n",
    "    \"\"\"\n",
    "\n",
    "    prompt = [\n",
    "        {\n",
    "            \"role\": \"system\", \n",
    "            \"content\": \"TASK: the task is to extract disease entities in a sentence.\"\n",
    "                       \"INPUT: the input is a sentence.\"\n",
    "                       \"OUTPUT: the output is an HTML that highlights all the disease entities in the sentence. \\\n",
    "                                The highlighting should only use HTML tags <span style=\\\"background-color: #FFFF00\\\"> and </span> and no other tags.\"\n",
    "        }\n",
    "    ]\n",
    "    if shot == 1: # the example is from NCBI-disease dataset's training split\n",
    "        prompt.append(\n",
    "            {\n",
    "                \"role\": \"user\", \n",
    "                \"content\": \"In summary , inactivation of the murine ATP7B gene produces a form of cirrhotic liver disease that resembles Wilson disease in humans and the toxic milk phenotype in the mouse . .\"\n",
    "            }\n",
    "        )\n",
    "        prompt.append(\n",
    "            {\n",
    "                \"role\": \"assistant\",\n",
    "                \"content\": 'In summary , inactivation of the murine ATP7B gene produces a form of <span style=\"background-color: #FFFF00\">cirrhotic liver disease</span> \\\n",
    "                            that resembles <span style=\"background-color: #FFFF00\">Wilson disease</span> in humans and the toxic milk phenotype in the mouse . .'\n",
    "            }\n",
    "        )\n",
    "    prompt.append(\n",
    "        {\n",
    "            \"role\": \"user\", \n",
    "            \"content\": sentence\n",
    "        }\n",
    "    )\n",
    "\n",
    "    gpt = \"gpt-4-0613\" if gpt4 else \"gpt-3.5-turbo-0613\"\n",
    "\n",
    "    retries = 10 # retry at most 10 times until it succeeds\n",
    "    while retries > 0:\n",
    "        try:\n",
    "            time_start = time.time()\n",
    "            response = openai.ChatCompletion.create(\n",
    "                model = gpt,\n",
    "                messages = prompt,\n",
    "                temperature = 0.0, # deterministic\n",
    "            )\n",
    "            time_end = time.time()\n",
    "            return response['choices'][0]['message']['content'], time_end - time_start\n",
    "        except:\n",
    "            print(f\"Retrying... {retries} retries left\")\n",
    "            retries -= 1\n",
    "            time.sleep(5)\n",
    "            continue\n",
    "\n",
    "    raise SystemExit(\"Max retries exceeded, exiting program\")"
   ]
  },
  {
   "cell_type": "code",
   "execution_count": null,
   "metadata": {},
   "outputs": [],
   "source": [
    "for i in tqdm(range(0, len(ncbi_df), 1)):\n",
    "    ncbi_df.loc[i, 'html_gpt3.5_zero_shot'], ncbi_df.loc[i, 'gpt3.5_zero_shot_time'] = get_ner_ncbi_disease(ncbi_df.iloc[i]['text'], gpt4=False, shot=0)\n",
    "    ncbi_df.loc[i, 'html_gpt4_zero_shot'], ncbi_df.loc[i, 'gpt4_zero_shot_time'] = get_ner_ncbi_disease(ncbi_df.iloc[i]['text'], gpt4=True, shot=0)\n",
    "    ncbi_df.loc[i, 'html_gpt3.5_one_shot'], ncbi_df.loc[i, 'gpt3.5_one_shot_time'] = get_ner_ncbi_disease(ncbi_df.iloc[i]['text'], gpt4=False, shot=1)\n",
    "    ncbi_df.loc[i, 'html_gpt4_one_shot'], ncbi_df.loc[i, 'gpt4_one_shot_time'] = get_ner_ncbi_disease(ncbi_df.iloc[i]['text'], gpt4=True, shot=1)"
   ]
  },
  {
   "cell_type": "markdown",
   "metadata": {},
   "source": [
    "### 1.2.2 Evaluation"
   ]
  },
  {
   "cell_type": "code",
   "execution_count": null,
   "metadata": {},
   "outputs": [],
   "source": [
    "ncbi_df['gt_labels'], ncbi_df['gpt3.5_zero_shot_labels'] = html_parsing_ncbi(ncbi_df, 'html_gpt3.5_zero_shot')\n",
    "_, ncbi_df['gpt4_zero_shot_labels'] = html_parsing_ncbi(ncbi_df, 'html_gpt4_zero_shot')\n",
    "_, ncbi_df['gpt3.5_one_shot_labels'] = html_parsing_ncbi(ncbi_df, 'html_gpt3.5_one_shot')\n",
    "_, ncbi_df['gpt4_one_shot_labels'] = html_parsing_ncbi(ncbi_df, 'html_gpt4_one_shot')"
   ]
  },
  {
   "cell_type": "code",
   "execution_count": null,
   "metadata": {},
   "outputs": [],
   "source": [
    "get_classification_report(ncbi_df, 'gt_labels', 'gpt4_one_shot_labels', 'strict')"
   ]
  },
  {
   "cell_type": "code",
   "execution_count": null,
   "metadata": {},
   "outputs": [],
   "source": [
    "get_classification_report(ncbi_df, 'gt_labels', 'gpt4_one_shot_labels', 'lenient')"
   ]
  },
  {
   "cell_type": "code",
   "execution_count": null,
   "metadata": {},
   "outputs": [],
   "source": [
    "print(f\"Average GPT-3.5 zero-shot prediction time: {ncbi_df['gpt3.5_zero_shot_time'].mean():.2f} seconds\")\n",
    "print(f\"Average GPT-4 zero-shot prediction time: {ncbi_df['gpt4_zero_shot_time'].mean():.2f} seconds\")\n",
    "print(f\"Average GPT-3.5 one-shot prediction time: {ncbi_df['gpt3.5_one_shot_time'].mean():.2f} seconds\")\n",
    "print(f\"Average GPT-4 one-shot prediction time: {ncbi_df['gpt4_one_shot_time'].mean():.2f} seconds\")"
   ]
  },
  {
   "cell_type": "code",
   "execution_count": null,
   "metadata": {},
   "outputs": [],
   "source": [
    "# save the inference results\n",
    "ncbi_df.to_csv('data/NER/NCBI-disease/test_200_results.csv', index=False)"
   ]
  },
  {
   "cell_type": "markdown",
   "metadata": {},
   "source": [
    "# 1.2 2018 n2c2 Dataset"
   ]
  },
  {
   "cell_type": "markdown",
   "metadata": {},
   "source": [
    "### 1.2.1 Inference"
   ]
  },
  {
   "cell_type": "code",
   "execution_count": null,
   "metadata": {},
   "outputs": [],
   "source": [
    "n2c2_df = pd.read_csv('data/NER/2018_n2c2/test_200.csv')"
   ]
  },
  {
   "cell_type": "code",
   "execution_count": null,
   "metadata": {},
   "outputs": [],
   "source": [
    "def get_ner_2018_n2c2(sentence: str, gpt4: bool = False, shot: int = 0):\n",
    "    \"\"\"\n",
    "        Get NER zero/one-shot prediction from GPT-3.5 or GPT-4 given a sentence in 2018 n2c2 dataset.\n",
    "        Input:\n",
    "            sentence: a string of sentence\n",
    "            gpt4: whether to use GPT-4 or GPT-3.5\n",
    "            shot: zero-shot (0) or one-shot (1)\n",
    "        Output:\n",
    "            a HTML string that highlights all the disease entities in the sentence in different colors\n",
    "    \"\"\"\n",
    "    \n",
    "    prompt = [\n",
    "        {\n",
    "            \"role\": \"system\", \n",
    "            \"content\": \"TASK: the task is to extract disease entities in a sentence. The entity type includes Form, Route, Frequency, Dosage, Strength, Duration, Reason, Ade, Drug.\"\n",
    "                       \"INPUT: the input is a sentence.\"\n",
    "                       \"OUTPUT: the output is an HTML that highlights all the disease entities in the sentence in different colors: Form(#FF0000), Route(#FFA500), Frequency(#FFFF00), Dosage(#00FF00), Strength(#0000FF), Duration(#800080), Reason(#FFC0CB), Ade(#964B00), Drug(#808080) in hex code. \\\n",
    "                                The highlighting should only use HTML tags <span style=\\\"background-color: #XXXXXX\\\"> and </span> and no other tags.\"\n",
    "        }\n",
    "    ]\n",
    "    if shot == 1:\n",
    "        prompt.append(\n",
    "            {\n",
    "                \"role\": \"user\", \n",
    "                \"content\": \"Vitamin D 400 unit Tablet Sig : Two ( 2 ) Tablet PO once a day .\"\n",
    "            }\n",
    "        )\n",
    "        prompt.append(\n",
    "            {\n",
    "                \"role\": \"assistant\",\n",
    "                \"content\": '<span style=\"background-color: #808080\">Vitamin D</span> <span style=\"background-color: #0000FF\">400 unit</span> <span style=\"background-color: #FF0000\">Tablet</span> Sig : <span style=\"background-color: #00FF00\">Two ( 2 )</span> <span style=\"background-color: #FF0000\">Tablet</span> <span style=\"background-color: #FFA500\">PO</span> <span style=\"background-color: #FFFF00\">once a day</span> .'\n",
    "            }\n",
    "        )\n",
    "    prompt.append(\n",
    "        {\n",
    "            \"role\": \"user\", \n",
    "            \"content\": sentence\n",
    "        }\n",
    "    )\n",
    "    \n",
    "    gpt = \"gpt-4-0613\" if gpt4 else \"gpt-3.5-turbo-0613\"\n",
    "    \n",
    "    \n",
    "    retries = 10 # retry at most 10 times until it succeeds\n",
    "    while retries > 0:\n",
    "        try:\n",
    "            time_start = time.time()\n",
    "            response = openai.ChatCompletion.create(\n",
    "                model = gpt,\n",
    "                messages = prompt,\n",
    "                temperature = 0.0, # deterministic\n",
    "            )\n",
    "            time_end = time.time()\n",
    "            return response['choices'][0]['message']['content'], time_end - time_start\n",
    "        except:\n",
    "            print(f\"Retrying... {retries} retries left\")\n",
    "            retries -= 1\n",
    "            time.sleep(5)\n",
    "            continue\n",
    "\n",
    "    raise SystemExit(\"Max retries exceeded, exiting program\")"
   ]
  },
  {
   "cell_type": "code",
   "execution_count": null,
   "metadata": {},
   "outputs": [],
   "source": [
    "for i in tqdm(range(0, len(n2c2_df), 1)):\n",
    "    n2c2_df.loc[i, 'html_gpt3.5_zero_shot'], n2c2_df.loc[i, 'gpt3.5_zero_shot_time'] = get_ner_2018_n2c2(n2c2_df.iloc[i]['text'], gpt4=False, shot=0)\n",
    "    n2c2_df.loc[i, 'html_gpt4_zero_shot'], n2c2_df.loc[i, 'gpt4_zero_shot_time'] = get_ner_2018_n2c2(n2c2_df.iloc[i]['text'], gpt4=True, shot=0)\n",
    "    n2c2_df.loc[i, 'html_gpt3.5_one_shot'], n2c2_df.loc[i, 'gpt3.5_one_shot_time'] = get_ner_2018_n2c2(n2c2_df.iloc[i]['text'], gpt4=False, shot=1)\n",
    "    n2c2_df.loc[i, 'html_gpt4_one_shot'], n2c2_df.loc[i, 'gpt4_one_shot_time'] = get_ner_2018_n2c2(n2c2_df.iloc[i]['text'], gpt4=True, shot=1)"
   ]
  },
  {
   "cell_type": "markdown",
   "metadata": {},
   "source": [
    "### 1.2.2 Evaluation"
   ]
  },
  {
   "cell_type": "code",
   "execution_count": null,
   "metadata": {},
   "outputs": [],
   "source": [
    "n2c2_df['gt_labels'], n2c2_df['gpt3.5_zero_shot_labels'] = html_parsing_n2c2(n2c2_df, 'html_gpt3.5_zero_shot')\n",
    "_, n2c2_df['gpt4_zero_shot_labels'] = html_parsing_n2c2(n2c2_df, 'html_gpt4_zero_shot')\n",
    "_, n2c2_df['gpt3.5_one_shot_labels'] = html_parsing_n2c2(n2c2_df, 'html_gpt3.5_one_shot')\n",
    "_, n2c2_df['gpt4_one_shot_labels'] = html_parsing_n2c2(n2c2_df, 'html_gpt4_one_shot')"
   ]
  },
  {
   "cell_type": "code",
   "execution_count": null,
   "metadata": {},
   "outputs": [],
   "source": [
    "get_classification_report(n2c2_df, 'gt_labels', 'gpt4_one_shot_labels', 'strict')"
   ]
  },
  {
   "cell_type": "code",
   "execution_count": null,
   "metadata": {},
   "outputs": [],
   "source": [
    "get_classification_report(n2c2_df, 'gt_labels', 'gpt4_one_shot_labels', 'lenient')"
   ]
  },
  {
   "cell_type": "code",
   "execution_count": null,
   "metadata": {},
   "outputs": [],
   "source": [
    "print(f\"Average GPT-3.5 zero-shot prediction time: {n2c2_df['gpt3.5_zero_shot_time'].mean():.2f} seconds\")\n",
    "print(f\"Average GPT-4 zero-shot prediction time: {n2c2_df['gpt4_zero_shot_time'].mean():.2f} seconds\")\n",
    "print(f\"Average GPT-3.5 one-shot prediction time: {n2c2_df['gpt3.5_one_shot_time'].mean():.2f} seconds\")\n",
    "print(f\"Average GPT-4 one-shot prediction time: {n2c2_df['gpt4_one_shot_time'].mean():.2f} seconds\")"
   ]
  },
  {
   "cell_type": "code",
   "execution_count": null,
   "metadata": {},
   "outputs": [],
   "source": [
    "n2c2_df.to_csv('data/NER/2018_n2c2/test_200_results.csv', index=False)"
   ]
  }
 ],
 "metadata": {
  "kernelspec": {
   "display_name": "Python 3",
   "language": "python",
   "name": "python3"
  },
  "language_info": {
   "codemirror_mode": {
    "name": "ipython",
    "version": 3
   },
   "file_extension": ".py",
   "mimetype": "text/x-python",
   "name": "python",
   "nbconvert_exporter": "python",
   "pygments_lexer": "ipython3",
   "version": "3.10.9"
  }
 },
 "nbformat": 4,
 "nbformat_minor": 2
}
