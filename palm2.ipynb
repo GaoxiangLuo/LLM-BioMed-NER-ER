{
 "cells": [
  {
   "cell_type": "code",
   "execution_count": 1,
   "metadata": {},
   "outputs": [],
   "source": [
    "import time\n",
    "import pandas as pd\n",
    "\n",
    "from tqdm import tqdm\n",
    "from google.cloud import aiplatform\n",
    "from sklearn.metrics import classification_report\n",
    "from vertexai.language_models import ChatModel, InputOutputTextPair\n",
    "from utils import html_parsing_ncbi, html_parsing_n2c2, get_classification_report, get_digit\n",
    "\n",
    "aiplatform.init(project='xxx-xxx-xxx')\n",
    "chat_model = ChatModel.from_pretrained(\"chat-bison@001\")"
   ]
  },
  {
   "cell_type": "markdown",
   "metadata": {},
   "source": [
    "> Gaoxiang Luo: You will have to setup a project on Google Cloud that enables Vertex AI API, and replace 'xxx-xxx-xxx' with your own project ID. The free trial period of Google Cloud has limited quota for Vertex AI API for PaLM2 model Bison per minute (~60 per minute). If you encounter quota exceeded error, please try again after that minute and continue from where you left off in the for loop."
   ]
  },
  {
   "cell_type": "markdown",
   "metadata": {},
   "source": [
    "# 1. NER (Named Entity Recognition)"
   ]
  },
  {
   "cell_type": "markdown",
   "metadata": {},
   "source": [
    "## 1.1 NCBI-Disease Dataset"
   ]
  },
  {
   "cell_type": "markdown",
   "metadata": {},
   "source": [
    "### 1.1.1 Inference"
   ]
  },
  {
   "cell_type": "code",
   "execution_count": 2,
   "metadata": {},
   "outputs": [],
   "source": [
    "ncbi_df = pd.read_csv('data/NER/NCBI-disease/test_200.csv')"
   ]
  },
  {
   "cell_type": "code",
   "execution_count": 3,
   "metadata": {},
   "outputs": [],
   "source": [
    "def get_ner_ncbi_disease(sentence: str, shot: int = 0) -> str:\n",
    "\n",
    "    parameters = {\n",
    "        \"temperature\": 0.0,\n",
    "    }\n",
    "\n",
    "    chat = chat_model.start_chat(\n",
    "        context=\"\"\"\n",
    "                \"TASK: the task is to extract disease entities in a sentence.\"\n",
    "                \"INPUT: the input is a sentence.\"\n",
    "                \"OUTPUT: the output is an HTML that highlights all the disease entities in the sentence. \\\n",
    "                        The highlighting should only use HTML tags <span style=\\\"background-color: #FFFF00\\\"> and </span> and no other tags.\"\n",
    "                \"\"\",\n",
    "        examples=[\n",
    "            InputOutputTextPair(\n",
    "                input_text=\"In summary , inactivation of the murine ATP7B gene produces a form of cirrhotic liver disease that resembles Wilson disease in humans and the toxic milk phenotype in the mouse . .\",\n",
    "                output_text='In summary , inactivation of the murine ATP7B gene produces a form of <span style=\"background-color: #FFFF00\">cirrhotic liver disease</span> \\\n",
    "                            that resembles <span style=\"background-color: #FFFF00\">Wilson disease</span> in humans and the toxic milk phenotype in the mouse . .',\n",
    "            ),\n",
    "        ] if shot == 1 else []\n",
    "    )\n",
    "\n",
    "    time_start = time.time()\n",
    "    response = chat.send_message(\n",
    "        sentence, **parameters\n",
    "    )\n",
    "    time_end = time.time()\n",
    "\n",
    "    return response.text, time_end - time_start"
   ]
  },
  {
   "cell_type": "code",
   "execution_count": 4,
   "metadata": {},
   "outputs": [
    {
     "name": "stderr",
     "output_type": "stream",
     "text": [
      "100%|██████████| 200/200 [16:29<00:00,  4.95s/it] \n"
     ]
    }
   ],
   "source": [
    "for i in tqdm(range(0, len(ncbi_df), 1)):\n",
    "    if (i + 1) % 20 == 0: # in case of quota limit error per minute\n",
    "        time.sleep(65)\n",
    "    ncbi_df.loc[i, 'html_palm2_zero_shot'], ncbi_df.loc[i, 'palm2_zero_shot_time'] = get_ner_ncbi_disease(ncbi_df.loc[i, 'text'], 0)\n",
    "    ncbi_df.loc[i, 'html_palm2_one_shot'], ncbi_df.loc[i, 'palm2_one_shot_time'] = get_ner_ncbi_disease(ncbi_df.loc[i, 'text'], 1)"
   ]
  },
  {
   "cell_type": "markdown",
   "metadata": {},
   "source": [
    "### 1.1.2 Evaluation"
   ]
  },
  {
   "cell_type": "code",
   "execution_count": 5,
   "metadata": {},
   "outputs": [],
   "source": [
    "ncbi_df['gt_labels'], ncbi_df['palm2_zero_shot_labels'] = html_parsing_ncbi(ncbi_df, 'html_palm2_zero_shot')\n",
    "_, ncbi_df['palm2_one_shot_labels'] = html_parsing_ncbi(ncbi_df, 'html_palm2_one_shot')"
   ]
  },
  {
   "cell_type": "code",
   "execution_count": 6,
   "metadata": {},
   "outputs": [
    {
     "data": {
      "text/plain": [
       "defaultdict(<function ner_metrics.ner_metrics.classifcation_report.<locals>.<lambda>()>,\n",
       "            {'default': defaultdict(<function ner_metrics.ner_metrics.classifcation_report.<locals>.<lambda>.<locals>.<lambda>()>,\n",
       "                         {'precision': 0.5934065934065934,\n",
       "                          'recall': 0.47368421052631576,\n",
       "                          'f1-score': 0.5268292682926828})})"
      ]
     },
     "execution_count": 6,
     "metadata": {},
     "output_type": "execute_result"
    }
   ],
   "source": [
    "get_classification_report(ncbi_df, 'gt_labels', 'palm2_one_shot_labels', 'strict')"
   ]
  },
  {
   "cell_type": "code",
   "execution_count": 7,
   "metadata": {},
   "outputs": [
    {
     "data": {
      "text/plain": [
       "defaultdict(<function ner_metrics.ner_metrics.classifcation_report.<locals>.<lambda>()>,\n",
       "            {'default': defaultdict(<function ner_metrics.ner_metrics.classifcation_report.<locals>.<lambda>.<locals>.<lambda>()>,\n",
       "                         {'precision': 0.7252747252747253,\n",
       "                          'recall': 0.5789473684210527,\n",
       "                          'f1-score': 0.6439024390243901})})"
      ]
     },
     "execution_count": 7,
     "metadata": {},
     "output_type": "execute_result"
    }
   ],
   "source": [
    "get_classification_report(ncbi_df, 'gt_labels', 'palm2_one_shot_labels', 'lenient')"
   ]
  },
  {
   "cell_type": "code",
   "execution_count": 8,
   "metadata": {},
   "outputs": [
    {
     "name": "stdout",
     "output_type": "stream",
     "text": [
      "Average PaLM 2 zero-shot prediction time: 0.83 seconds\n",
      "Average PaLM 2 one-shot prediction time: 0.86 seconds\n"
     ]
    }
   ],
   "source": [
    "print(f\"Average PaLM 2 zero-shot prediction time: {ncbi_df['palm2_zero_shot_time'].mean():.2f} seconds\")\n",
    "print(f\"Average PaLM 2 one-shot prediction time: {ncbi_df['palm2_one_shot_time'].mean():.2f} seconds\")"
   ]
  },
  {
   "cell_type": "code",
   "execution_count": 9,
   "metadata": {},
   "outputs": [],
   "source": [
    "# save the inference results\n",
    "ncbi_df.to_csv('data/NER/NCBI-disease/test_200_palm2_results.csv', index=False)"
   ]
  },
  {
   "cell_type": "markdown",
   "metadata": {},
   "source": [
    "# 1.2 2018 n2c2 Dataset"
   ]
  },
  {
   "cell_type": "markdown",
   "metadata": {},
   "source": [
    "### 1.2.1 Inference"
   ]
  },
  {
   "cell_type": "code",
   "execution_count": 10,
   "metadata": {},
   "outputs": [],
   "source": [
    "n2c2_df = pd.read_csv('data/NER/2018_n2c2/test_200.csv')"
   ]
  },
  {
   "cell_type": "code",
   "execution_count": 11,
   "metadata": {},
   "outputs": [],
   "source": [
    "def get_ner_2018_n2c2(sentence: str, shot: int = 0) -> str:\n",
    "\n",
    "    parameters = {\n",
    "        \"temperature\": 0.0,\n",
    "    }\n",
    "\n",
    "    chat = chat_model.start_chat(\n",
    "        context=\"\"\"\n",
    "                \"TASK: the task is to extract disease entities in a sentence. The entity type includes Form, Route, Frequency, Dosage, Strength, Duration, Reason, Ade, Drug.\"\n",
    "                \"INPUT: the input is a sentence.\"\n",
    "                \"OUTPUT: the output is an HTML that highlights all the disease entities in the sentence in different colors: Form(#FF0000), Route(#FFA500), Frequency(#FFFF00), Dosage(#00FF00), Strength(#0000FF), Duration(#800080), Reason(#FFC0CB), Ade(#964B00), Drug(#808080) in hex code. \\\n",
    "                        The highlighting should only use HTML tags <span style=\\\"background-color: #XXXXXX\\\"> and </span> and no other tags.\"\n",
    "                \"\"\",\n",
    "        examples=[\n",
    "            InputOutputTextPair(\n",
    "                input_text=\"Vitamin D 400 unit Tablet Sig : Two ( 2 ) Tablet PO once a day .\",\n",
    "                output_text='<span style=\"background-color: #808080\">Vitamin D</span> <span style=\"background-color: #0000FF\">400 unit</span> <span style=\"background-color: #FF0000\">Tablet</span> Sig : <span style=\"background-color: #00FF00\">Two ( 2 )</span> <span style=\"background-color: #FF0000\">Tablet</span> <span style=\"background-color: #FFA500\">PO</span> <span style=\"background-color: #FFFF00\">once a day</span> .',\n",
    "            ),\n",
    "        ] if shot == 1 else []\n",
    "    )\n",
    "\n",
    "    time_start = time.time()\n",
    "    response = chat.send_message(\n",
    "        sentence, **parameters\n",
    "    )\n",
    "    time_end = time.time()\n",
    "\n",
    "    return response.text, time_end - time_start"
   ]
  },
  {
   "cell_type": "code",
   "execution_count": 12,
   "metadata": {},
   "outputs": [
    {
     "name": "stderr",
     "output_type": "stream",
     "text": [
      "100%|██████████| 200/200 [19:19<00:00,  5.80s/it] \n"
     ]
    }
   ],
   "source": [
    "for i in tqdm(range(0, len(n2c2_df), 1)):\n",
    "    if (i + 1) % 20 == 0: # in case of quota limit error per minute\n",
    "        time.sleep(65)\n",
    "    n2c2_df.loc[i, 'html_palm2_zero_shot'], n2c2_df.loc[i, 'palm2_zero_shot_time'] = get_ner_2018_n2c2(n2c2_df.loc[i, 'text'], 0)\n",
    "    n2c2_df.loc[i, 'html_palm2_one_shot'], n2c2_df.loc[i, 'palm2_one_shot_time'] = get_ner_2018_n2c2(n2c2_df.loc[i, 'text'], 1)"
   ]
  },
  {
   "cell_type": "markdown",
   "metadata": {},
   "source": [
    "### 1.2.2 Evaluation"
   ]
  },
  {
   "cell_type": "code",
   "execution_count": 13,
   "metadata": {},
   "outputs": [],
   "source": [
    "n2c2_df['gt_labels'], n2c2_df['palm2_zero_shot_labels'] = html_parsing_n2c2(n2c2_df, 'html_palm2_zero_shot')\n",
    "_, n2c2_df['palm2_one_shot_labels'] = html_parsing_n2c2(n2c2_df, 'html_palm2_one_shot')"
   ]
  },
  {
   "cell_type": "code",
   "execution_count": 14,
   "metadata": {},
   "outputs": [
    {
     "data": {
      "text/plain": [
       "defaultdict(<function ner_metrics.ner_metrics.classifcation_report.<locals>.<lambda>()>,\n",
       "            {'Duration': defaultdict(<function ner_metrics.ner_metrics.classifcation_report.<locals>.<lambda>.<locals>.<lambda>()>,\n",
       "                         {'precision': 0.07894736842105263,\n",
       "                          'recall': 0.21428571428571427,\n",
       "                          'f1-score': 0.11538461538461539}),\n",
       "             'Route': defaultdict(<function ner_metrics.ner_metrics.classifcation_report.<locals>.<lambda>.<locals>.<lambda>()>,\n",
       "                         {'precision': 0.9710144927536232,\n",
       "                          'recall': 0.881578947368421,\n",
       "                          'f1-score': 0.9241379310344827}),\n",
       "             'Form': defaultdict(<function ner_metrics.ner_metrics.classifcation_report.<locals>.<lambda>.<locals>.<lambda>()>,\n",
       "                         {'precision': 0.5034013605442177,\n",
       "                          'recall': 0.7789473684210526,\n",
       "                          'f1-score': 0.6115702479338844}),\n",
       "             'Ade': defaultdict(<function ner_metrics.ner_metrics.classifcation_report.<locals>.<lambda>.<locals>.<lambda>()>,\n",
       "                         {'precision': 0.0, 'recall': 0.0, 'f1-score': 0}),\n",
       "             'Drug': defaultdict(<function ner_metrics.ner_metrics.classifcation_report.<locals>.<lambda>.<locals>.<lambda>()>,\n",
       "                         {'precision': 0.680952380952381,\n",
       "                          'recall': 0.6529680365296804,\n",
       "                          'f1-score': 0.6666666666666666}),\n",
       "             'Frequency': defaultdict(<function ner_metrics.ner_metrics.classifcation_report.<locals>.<lambda>.<locals>.<lambda>()>,\n",
       "                         {'precision': 0.2716049382716049,\n",
       "                          'recall': 0.2894736842105263,\n",
       "                          'f1-score': 0.2802547770700637}),\n",
       "             'Dosage': defaultdict(<function ner_metrics.ner_metrics.classifcation_report.<locals>.<lambda>.<locals>.<lambda>()>,\n",
       "                         {'precision': 0.5121951219512195,\n",
       "                          'recall': 0.6363636363636364,\n",
       "                          'f1-score': 0.5675675675675675}),\n",
       "             'Strength': defaultdict(<function ner_metrics.ner_metrics.classifcation_report.<locals>.<lambda>.<locals>.<lambda>()>,\n",
       "                         {'precision': 0.6041666666666666,\n",
       "                          'recall': 0.7341772151898734,\n",
       "                          'f1-score': 0.6628571428571428}),\n",
       "             'Reason': defaultdict(<function ner_metrics.ner_metrics.classifcation_report.<locals>.<lambda>.<locals>.<lambda>()>,\n",
       "                         {'precision': 0.3670886075949367,\n",
       "                          'recall': 0.4461538461538462,\n",
       "                          'f1-score': 0.4027777777777778})})"
      ]
     },
     "execution_count": 14,
     "metadata": {},
     "output_type": "execute_result"
    }
   ],
   "source": [
    "get_classification_report(n2c2_df, 'gt_labels', 'palm2_one_shot_labels', 'strict')"
   ]
  },
  {
   "cell_type": "code",
   "execution_count": 15,
   "metadata": {},
   "outputs": [
    {
     "data": {
      "text/plain": [
       "defaultdict(<function ner_metrics.ner_metrics.classifcation_report.<locals>.<lambda>()>,\n",
       "            {'Duration': defaultdict(<function ner_metrics.ner_metrics.classifcation_report.<locals>.<lambda>.<locals>.<lambda>()>,\n",
       "                         {'precision': 0.23684210526315788,\n",
       "                          'recall': 0.6428571428571429,\n",
       "                          'f1-score': 0.34615384615384615}),\n",
       "             'Route': defaultdict(<function ner_metrics.ner_metrics.classifcation_report.<locals>.<lambda>.<locals>.<lambda>()>,\n",
       "                         {'precision': 0.9710144927536232,\n",
       "                          'recall': 0.881578947368421,\n",
       "                          'f1-score': 0.9241379310344827}),\n",
       "             'Form': defaultdict(<function ner_metrics.ner_metrics.classifcation_report.<locals>.<lambda>.<locals>.<lambda>()>,\n",
       "                         {'precision': 0.5782312925170068,\n",
       "                          'recall': 0.8947368421052632,\n",
       "                          'f1-score': 0.7024793388429751}),\n",
       "             'Ade': defaultdict(<function ner_metrics.ner_metrics.classifcation_report.<locals>.<lambda>.<locals>.<lambda>()>,\n",
       "                         {'precision': 0.0, 'recall': 0.0, 'f1-score': 0}),\n",
       "             'Drug': defaultdict(<function ner_metrics.ner_metrics.classifcation_report.<locals>.<lambda>.<locals>.<lambda>()>,\n",
       "                         {'precision': 0.7428571428571429,\n",
       "                          'recall': 0.7123287671232876,\n",
       "                          'f1-score': 0.7272727272727273}),\n",
       "             'Frequency': defaultdict(<function ner_metrics.ner_metrics.classifcation_report.<locals>.<lambda>.<locals>.<lambda>()>,\n",
       "                         {'precision': 0.654320987654321,\n",
       "                          'recall': 0.6973684210526315,\n",
       "                          'f1-score': 0.6751592356687897}),\n",
       "             'Dosage': defaultdict(<function ner_metrics.ner_metrics.classifcation_report.<locals>.<lambda>.<locals>.<lambda>()>,\n",
       "                         {'precision': 0.6341463414634146,\n",
       "                          'recall': 0.7878787878787878,\n",
       "                          'f1-score': 0.7027027027027027}),\n",
       "             'Strength': defaultdict(<function ner_metrics.ner_metrics.classifcation_report.<locals>.<lambda>.<locals>.<lambda>()>,\n",
       "                         {'precision': 0.6770833333333334,\n",
       "                          'recall': 0.8227848101265823,\n",
       "                          'f1-score': 0.742857142857143}),\n",
       "             'Reason': defaultdict(<function ner_metrics.ner_metrics.classifcation_report.<locals>.<lambda>.<locals>.<lambda>()>,\n",
       "                         {'precision': 0.45569620253164556,\n",
       "                          'recall': 0.5538461538461539,\n",
       "                          'f1-score': 0.5})})"
      ]
     },
     "execution_count": 15,
     "metadata": {},
     "output_type": "execute_result"
    }
   ],
   "source": [
    "get_classification_report(n2c2_df, 'gt_labels', 'palm2_one_shot_labels', 'lenient')"
   ]
  },
  {
   "cell_type": "code",
   "execution_count": 16,
   "metadata": {},
   "outputs": [
    {
     "name": "stdout",
     "output_type": "stream",
     "text": [
      "Average PaLM 2 zero-shot prediction time: 1.30 seconds\n",
      "Average PaLM 2 one-shot prediction time: 1.24 seconds\n"
     ]
    }
   ],
   "source": [
    "print(f\"Average PaLM 2 zero-shot prediction time: {n2c2_df['palm2_zero_shot_time'].mean():.2f} seconds\")\n",
    "print(f\"Average PaLM 2 one-shot prediction time: {n2c2_df['palm2_one_shot_time'].mean():.2f} seconds\")"
   ]
  },
  {
   "cell_type": "code",
   "execution_count": 17,
   "metadata": {},
   "outputs": [],
   "source": [
    "# save the inference results\n",
    "n2c2_df.to_csv('data/NER/2018_n2c2/test_200_palm2_results.csv', index=False)"
   ]
  },
  {
   "cell_type": "markdown",
   "metadata": {},
   "source": [
    "# 2. RE (Relation Extraction)"
   ]
  },
  {
   "cell_type": "markdown",
   "metadata": {},
   "source": [
    "## 2.1 2018 n2c2 Dataset"
   ]
  },
  {
   "cell_type": "markdown",
   "metadata": {},
   "source": [
    "### 2.1.1 Infernece"
   ]
  },
  {
   "cell_type": "code",
   "execution_count": 18,
   "metadata": {},
   "outputs": [],
   "source": [
    "n2c2_df = pd.read_csv('data/ER/2018_n2c2/test_200.csv')"
   ]
  },
  {
   "cell_type": "code",
   "execution_count": 19,
   "metadata": {},
   "outputs": [],
   "source": [
    "def get_re_2018_n2c2(sentence: str, shot: int = 0) -> str:\n",
    "\n",
    "    parameters = {\n",
    "        \"temperature\": 0.0,\n",
    "    }\n",
    "\n",
    "    chat = chat_model.start_chat(\n",
    "        context=\"\"\"\n",
    "                \"TASK: the task is to classify relations for a sentence.\"\n",
    "                \"INPUT: the input is a sentence where the entities are labeled within [E${X}] and [E${X}/] in a sentence, where X is an integer representing an unique entity.\"\n",
    "                \"OUTPUT: your task is to select one out of the nine types of relations ('STRENGTH-DRUG', 'ROUTE-DRUG', 'FREQUENCY-DRUG', 'FORM-DRUG', 'DOSAGE-DRUG', \\\n",
    "                        'REASON-DRUG', 'DURATION-DRUG', 'ADE-DRUG', and 'No relation').\"\n",
    "                \"\"\",\n",
    "        examples=[\n",
    "            InputOutputTextPair(\n",
    "                input_text=\"[E2] Docusate/Sodium [E2/] ( Liquid ) 100/mg PO BID/:/PRN [E1] constipation [E1/] 4 .\",\n",
    "                output_text='REASON-DRUG',\n",
    "            ),\n",
    "        ] if shot == 1 else []\n",
    "    )\n",
    "\n",
    "    time_start = time.time()\n",
    "    response = chat.send_message(\n",
    "        sentence, **parameters\n",
    "    )\n",
    "    time_end = time.time()\n",
    "\n",
    "    return response.text, time_end - time_start"
   ]
  },
  {
   "cell_type": "code",
   "execution_count": 20,
   "metadata": {},
   "outputs": [
    {
     "name": "stderr",
     "output_type": "stream",
     "text": [
      "100%|██████████| 200/200 [14:25<00:00,  4.33s/it] \n"
     ]
    }
   ],
   "source": [
    "for i in tqdm(range(0, len(n2c2_df), 1)):\n",
    "    if (i + 1) % 20 == 0: # in case of quota limit error per minute\n",
    "        time.sleep(65)\n",
    "    n2c2_df.loc[i, 'palm2_zero_shot'], n2c2_df.loc[i, 'palm2_zero_shot_time'] = get_re_2018_n2c2(n2c2_df.iloc[i]['text'], 0)\n",
    "    n2c2_df.loc[i, 'palm2_one_shot'], n2c2_df.loc[i, 'palm2_one_shot_time'] = get_re_2018_n2c2(n2c2_df.iloc[i]['text'], 1)"
   ]
  },
  {
   "cell_type": "markdown",
   "metadata": {},
   "source": [
    "### 2.1.2 Evaluation"
   ]
  },
  {
   "cell_type": "code",
   "execution_count": 21,
   "metadata": {},
   "outputs": [],
   "source": [
    "# get rid of ' ' if any\n",
    "n2c2_df['palm2_zero_shot'] = n2c2_df['palm2_zero_shot'].apply(lambda x: x[1:-1] if \"'\" in x else x)\n",
    "n2c2_df['palm2_one_shot'] = n2c2_df['palm2_one_shot'].apply(lambda x: x[1:-1] if \"'\" in x else x)"
   ]
  },
  {
   "cell_type": "code",
   "execution_count": 22,
   "metadata": {},
   "outputs": [],
   "source": [
    "# get digit label while considering failed LLM outputs as 'No relation'\n",
    "n2c2_df['labels'] = n2c2_df['labels'].apply(get_digit)\n",
    "n2c2_df['palm2_zero_shot_labels'] = n2c2_df['palm2_zero_shot'].apply(get_digit)\n",
    "n2c2_df['palm2_one_shot_labels'] = n2c2_df['palm2_one_shot'].apply(get_digit)"
   ]
  },
  {
   "cell_type": "code",
   "execution_count": 23,
   "metadata": {},
   "outputs": [
    {
     "name": "stdout",
     "output_type": "stream",
     "text": [
      "              precision    recall  f1-score   support\n",
      "\n",
      "           0       0.97      0.89      0.93       130\n",
      "           1       0.67      0.31      0.42        13\n",
      "           2       0.83      0.83      0.83        12\n",
      "           3       0.82      0.82      0.82        11\n",
      "           4       0.71      0.45      0.56        11\n",
      "           5       0.29      0.90      0.44        10\n",
      "           6       0.40      0.33      0.36         6\n",
      "           7       0.80      0.80      0.80         5\n",
      "           8       0.33      0.50      0.40         2\n",
      "\n",
      "    accuracy                           0.80       200\n",
      "   macro avg       0.65      0.65      0.62       200\n",
      "weighted avg       0.86      0.80      0.81       200\n",
      "\n"
     ]
    }
   ],
   "source": [
    "y_true = n2c2_df['labels'].tolist()\n",
    "y_pred = n2c2_df['palm2_one_shot_labels'].tolist()\n",
    "print(classification_report(y_true, y_pred, digits=2))"
   ]
  },
  {
   "cell_type": "code",
   "execution_count": 24,
   "metadata": {},
   "outputs": [
    {
     "name": "stdout",
     "output_type": "stream",
     "text": [
      "Average PaLM 2 zero-shot prediction time: 0.52 seconds\n",
      "Average PaLM 2 one-shot prediction time: 0.56 seconds\n"
     ]
    }
   ],
   "source": [
    "print(f\"Average PaLM 2 zero-shot prediction time: {n2c2_df['palm2_zero_shot_time'].mean():.2f} seconds\")\n",
    "print(f\"Average PaLM 2 one-shot prediction time: {n2c2_df['palm2_one_shot_time'].mean():.2f} seconds\")"
   ]
  },
  {
   "cell_type": "code",
   "execution_count": 25,
   "metadata": {},
   "outputs": [],
   "source": [
    "# save the inference results\n",
    "n2c2_df.to_csv('data/ER/2018_n2c2/test_200_palm2_results.csv', index=False)"
   ]
  },
  {
   "cell_type": "markdown",
   "metadata": {},
   "source": [
    "## 2.2 GAD"
   ]
  },
  {
   "cell_type": "markdown",
   "metadata": {},
   "source": [
    "### 2.2.1 Inference"
   ]
  },
  {
   "cell_type": "code",
   "execution_count": 26,
   "metadata": {},
   "outputs": [],
   "source": [
    "gad_df = pd.read_csv('data/ER/GAD/test_200.csv')"
   ]
  },
  {
   "cell_type": "code",
   "execution_count": 27,
   "metadata": {},
   "outputs": [],
   "source": [
    "def get_re_gad(sentence: str, shot: int = 0) -> str:\n",
    "\n",
    "    parameters = {\n",
    "        \"temperature\": 0.0,\n",
    "    }\n",
    "\n",
    "    chat = chat_model.start_chat(\n",
    "        context=\"\"\"\n",
    "                \"TASK: the task is to classify relations between a disease and a gene for a sentence.\"\n",
    "                \"INPUT: the input is a sentence where the disease is labeled as @DISEASE$ and the gene is labeled as @GENE$ accordingly in a sentence. \"\n",
    "                \"OUTPUT: your task is to select one out of the two types of relations (0 and 1) for the gene and disease without any explanation or other characters: \\n \\\n",
    "                        0, no relations \\n \\\n",
    "                        1, has relations\"\n",
    "                \"\"\",\n",
    "        examples=[\n",
    "            InputOutputTextPair(\n",
    "                input_text=\"We found evidence for association between @GENE$ and COGA @DISEASE$, history of blackouts, age at first drunkenness, and level of response to alcohol.\",\n",
    "                output_text='1',\n",
    "            ),\n",
    "        ] if shot == 1 else []\n",
    "    )\n",
    "\n",
    "    time_start = time.time()\n",
    "    response = chat.send_message(\n",
    "        sentence, **parameters\n",
    "    )\n",
    "    time_end = time.time()\n",
    "\n",
    "    return response.text, time_end - time_start"
   ]
  },
  {
   "cell_type": "code",
   "execution_count": 28,
   "metadata": {},
   "outputs": [
    {
     "name": "stderr",
     "output_type": "stream",
     "text": [
      "100%|██████████| 200/200 [14:19<00:00,  4.30s/it] \n"
     ]
    }
   ],
   "source": [
    "for i in tqdm(range(0, len(gad_df), 1)):\n",
    "    if (i + 1) % 20 == 0: # in case of quota limit error per minute\n",
    "        time.sleep(65)\n",
    "    gad_df.loc[i, 'palm2_zero_shot'], gad_df.loc[i, 'palm2_zero_shot_time'] = get_re_gad(gad_df.iloc[i]['text'], 0)\n",
    "    gad_df.loc[i, 'palm2_one_shot'], gad_df.loc[i, 'palm2_one_shot_time'] = get_re_gad(gad_df.iloc[i]['text'], 1)"
   ]
  },
  {
   "cell_type": "markdown",
   "metadata": {},
   "source": [
    "### 2.2.2 Evaluation"
   ]
  },
  {
   "cell_type": "code",
   "execution_count": 29,
   "metadata": {},
   "outputs": [],
   "source": [
    "# convert some strings to int while considering failed LLM outputs as 'No relation (0)'\n",
    "gad_df['palm2_zero_shot'] = gad_df['palm2_zero_shot'].apply(lambda x: int(x) if x.isdigit() else 0)\n",
    "gad_df['palm2_one_shot'] = gad_df['palm2_one_shot'].apply(lambda x: int(x) if x.isdigit() else 0)"
   ]
  },
  {
   "cell_type": "code",
   "execution_count": 30,
   "metadata": {},
   "outputs": [
    {
     "name": "stdout",
     "output_type": "stream",
     "text": [
      "              precision    recall  f1-score   support\n",
      "\n",
      "           0       0.63      0.17      0.27        98\n",
      "           1       0.53      0.90      0.67       102\n",
      "\n",
      "    accuracy                           0.55       200\n",
      "   macro avg       0.58      0.54      0.47       200\n",
      "weighted avg       0.58      0.55      0.47       200\n",
      "\n"
     ]
    }
   ],
   "source": [
    "y_true = gad_df['labels'].tolist()\n",
    "y_pred = gad_df['palm2_one_shot'].tolist()\n",
    "print(classification_report(y_true, y_pred, digits=2))"
   ]
  },
  {
   "cell_type": "code",
   "execution_count": 31,
   "metadata": {},
   "outputs": [
    {
     "name": "stdout",
     "output_type": "stream",
     "text": [
      "Average PaLM 2 zero-shot prediction time: 0.51 seconds\n",
      "Average PaLM 2 one-shot prediction time: 0.53 seconds\n"
     ]
    }
   ],
   "source": [
    "print(f\"Average PaLM 2 zero-shot prediction time: {gad_df['palm2_zero_shot_time'].mean():.2f} seconds\")\n",
    "print(f\"Average PaLM 2 one-shot prediction time: {gad_df['palm2_one_shot_time'].mean():.2f} seconds\")"
   ]
  },
  {
   "cell_type": "code",
   "execution_count": 32,
   "metadata": {},
   "outputs": [],
   "source": [
    "# save the inference results\n",
    "gad_df.to_csv('data/ER/GAD/test_200_palm2_results.csv', index=False)"
   ]
  }
 ],
 "metadata": {
  "kernelspec": {
   "display_name": "base",
   "language": "python",
   "name": "python3"
  },
  "language_info": {
   "codemirror_mode": {
    "name": "ipython",
    "version": 3
   },
   "file_extension": ".py",
   "mimetype": "text/x-python",
   "name": "python",
   "nbconvert_exporter": "python",
   "pygments_lexer": "ipython3",
   "version": "3.10.9"
  }
 },
 "nbformat": 4,
 "nbformat_minor": 2
}
